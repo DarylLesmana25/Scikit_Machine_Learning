{
  "cells": [
    {
      "cell_type": "markdown",
      "metadata": {
        "id": "XHZRdXMoxwmt"
      },
      "source": [
        "# Machine Learning Workflow dengan Scikit-Learn\n",
        "Source : [Indonesia Belajar](https://youtu.be/tiREcHrtDLo)"
      ]
    },
    {
      "cell_type": "markdown",
      "metadata": {
        "id": "1XHZ6Ip0yBKC"
      },
      "source": [
        "## Persiapan Dataset\n",
        "### Load Sample Dataset: Iris Dataset"
      ]
    },
    {
      "cell_type": "code",
      "execution_count": 1,
      "metadata": {
        "id": "5bP-XCDVxtXC"
      },
      "outputs": [],
      "source": [
        "from sklearn.datasets import load_iris\n",
        "\n",
        "iris = load_iris()\n",
        "\n",
        "X = iris.data\n",
        "y = iris.target"
      ]
    },
    {
      "cell_type": "markdown",
      "metadata": {
        "id": "MGWYsIxyyEQv"
      },
      "source": [
        "### Splitting Dataset: Training & Testing Set\n",
        "- Persiapan dataset untuk training model dibagi menjadi 2 secara random.\n",
        "  - training set: untuk melakukan training model\n",
        "  - testings set: untuk melakukan proses evaluasi/ testing performa dari trained model\n",
        "- Split dataset adalah membagi dataset dengan menggunakan function train_test_split()\n",
        "  - Parameter 1 adalah features, parameter 2 adalah target, parameter 3 merepresentasikan ukuran dari dataset, Parameter 4 berguna untuk menghasilkan pengacakan\n",
        "- Total terdapat 4 parameter\n",
        "- Parameter pertama menampung features training set\n",
        "- Parameter kedua menampung features testing set\n",
        "- Parameter ketiga menampung target training set\n",
        "- Parameter keempat menampung target testing set"
      ]
    },
    {
      "cell_type": "code",
      "execution_count": 2,
      "metadata": {
        "id": "k19qMehGy6L7"
      },
      "outputs": [],
      "source": [
        "from sklearn.model_selection import train_test_split\n",
        "\n",
        "X_train, X_test, y_train, y_test = train_test_split(X,\n",
        "                                                    y,\n",
        "                                                    test_size=0.4,\n",
        "                                                    random_state=1)"
      ]
    },
    {
      "cell_type": "markdown",
      "metadata": {
        "id": "67-KMl90y8Hc"
      },
      "source": [
        "### Training Model\n",
        "- Pada SKLearn ini, model machine learning dibentuk dari class yang dikenal dengan istilah estimator yang mengimplementasikan dua method utama, yaitu fit() dan predict().\n",
        "\n",
        "- Method fit() digunakan untuk melakukan training model.\n",
        "\n",
        "- Method predict() digunakan untuk melakukan estimasi/prediksi dengan memanfaatkan trained model.\n",
        "\n",
        "- Parameter n_neighbors berguna untuk menentukan jumlah neighbors\n",
        "\n",
        "- Fungsi fit() digunakan untuk mentraining model dengan 2 buah parameter , yaitu : features training set dan target taraining set"
      ]
    },
    {
      "cell_type": "code",
      "execution_count": 3,
      "metadata": {
        "id": "nHb7qGutzTMy",
        "colab": {
          "base_uri": "https://localhost:8080/",
          "height": 74
        },
        "outputId": "6197c48b-449a-4345-fefe-8f74b1efba9f"
      },
      "outputs": [
        {
          "output_type": "execute_result",
          "data": {
            "text/plain": [
              "KNeighborsClassifier(n_neighbors=3)"
            ],
            "text/html": [
              "<style>#sk-container-id-1 {color: black;background-color: white;}#sk-container-id-1 pre{padding: 0;}#sk-container-id-1 div.sk-toggleable {background-color: white;}#sk-container-id-1 label.sk-toggleable__label {cursor: pointer;display: block;width: 100%;margin-bottom: 0;padding: 0.3em;box-sizing: border-box;text-align: center;}#sk-container-id-1 label.sk-toggleable__label-arrow:before {content: \"▸\";float: left;margin-right: 0.25em;color: #696969;}#sk-container-id-1 label.sk-toggleable__label-arrow:hover:before {color: black;}#sk-container-id-1 div.sk-estimator:hover label.sk-toggleable__label-arrow:before {color: black;}#sk-container-id-1 div.sk-toggleable__content {max-height: 0;max-width: 0;overflow: hidden;text-align: left;background-color: #f0f8ff;}#sk-container-id-1 div.sk-toggleable__content pre {margin: 0.2em;color: black;border-radius: 0.25em;background-color: #f0f8ff;}#sk-container-id-1 input.sk-toggleable__control:checked~div.sk-toggleable__content {max-height: 200px;max-width: 100%;overflow: auto;}#sk-container-id-1 input.sk-toggleable__control:checked~label.sk-toggleable__label-arrow:before {content: \"▾\";}#sk-container-id-1 div.sk-estimator input.sk-toggleable__control:checked~label.sk-toggleable__label {background-color: #d4ebff;}#sk-container-id-1 div.sk-label input.sk-toggleable__control:checked~label.sk-toggleable__label {background-color: #d4ebff;}#sk-container-id-1 input.sk-hidden--visually {border: 0;clip: rect(1px 1px 1px 1px);clip: rect(1px, 1px, 1px, 1px);height: 1px;margin: -1px;overflow: hidden;padding: 0;position: absolute;width: 1px;}#sk-container-id-1 div.sk-estimator {font-family: monospace;background-color: #f0f8ff;border: 1px dotted black;border-radius: 0.25em;box-sizing: border-box;margin-bottom: 0.5em;}#sk-container-id-1 div.sk-estimator:hover {background-color: #d4ebff;}#sk-container-id-1 div.sk-parallel-item::after {content: \"\";width: 100%;border-bottom: 1px solid gray;flex-grow: 1;}#sk-container-id-1 div.sk-label:hover label.sk-toggleable__label {background-color: #d4ebff;}#sk-container-id-1 div.sk-serial::before {content: \"\";position: absolute;border-left: 1px solid gray;box-sizing: border-box;top: 0;bottom: 0;left: 50%;z-index: 0;}#sk-container-id-1 div.sk-serial {display: flex;flex-direction: column;align-items: center;background-color: white;padding-right: 0.2em;padding-left: 0.2em;position: relative;}#sk-container-id-1 div.sk-item {position: relative;z-index: 1;}#sk-container-id-1 div.sk-parallel {display: flex;align-items: stretch;justify-content: center;background-color: white;position: relative;}#sk-container-id-1 div.sk-item::before, #sk-container-id-1 div.sk-parallel-item::before {content: \"\";position: absolute;border-left: 1px solid gray;box-sizing: border-box;top: 0;bottom: 0;left: 50%;z-index: -1;}#sk-container-id-1 div.sk-parallel-item {display: flex;flex-direction: column;z-index: 1;position: relative;background-color: white;}#sk-container-id-1 div.sk-parallel-item:first-child::after {align-self: flex-end;width: 50%;}#sk-container-id-1 div.sk-parallel-item:last-child::after {align-self: flex-start;width: 50%;}#sk-container-id-1 div.sk-parallel-item:only-child::after {width: 0;}#sk-container-id-1 div.sk-dashed-wrapped {border: 1px dashed gray;margin: 0 0.4em 0.5em 0.4em;box-sizing: border-box;padding-bottom: 0.4em;background-color: white;}#sk-container-id-1 div.sk-label label {font-family: monospace;font-weight: bold;display: inline-block;line-height: 1.2em;}#sk-container-id-1 div.sk-label-container {text-align: center;}#sk-container-id-1 div.sk-container {/* jupyter's `normalize.less` sets `[hidden] { display: none; }` but bootstrap.min.css set `[hidden] { display: none !important; }` so we also need the `!important` here to be able to override the default hidden behavior on the sphinx rendered scikit-learn.org. See: https://github.com/scikit-learn/scikit-learn/issues/21755 */display: inline-block !important;position: relative;}#sk-container-id-1 div.sk-text-repr-fallback {display: none;}</style><div id=\"sk-container-id-1\" class=\"sk-top-container\"><div class=\"sk-text-repr-fallback\"><pre>KNeighborsClassifier(n_neighbors=3)</pre><b>In a Jupyter environment, please rerun this cell to show the HTML representation or trust the notebook. <br />On GitHub, the HTML representation is unable to render, please try loading this page with nbviewer.org.</b></div><div class=\"sk-container\" hidden><div class=\"sk-item\"><div class=\"sk-estimator sk-toggleable\"><input class=\"sk-toggleable__control sk-hidden--visually\" id=\"sk-estimator-id-1\" type=\"checkbox\" checked><label for=\"sk-estimator-id-1\" class=\"sk-toggleable__label sk-toggleable__label-arrow\">KNeighborsClassifier</label><div class=\"sk-toggleable__content\"><pre>KNeighborsClassifier(n_neighbors=3)</pre></div></div></div></div></div>"
            ]
          },
          "metadata": {},
          "execution_count": 3
        }
      ],
      "source": [
        "from sklearn.neighbors import KNeighborsClassifier\n",
        "\n",
        "model = KNeighborsClassifier(n_neighbors=3)\n",
        "model.fit(X_train, y_train)"
      ]
    },
    {
      "cell_type": "markdown",
      "metadata": {
        "id": "lcTj5LotzUrG"
      },
      "source": [
        "### Evaluasi Model\n",
        "- Menggunakan accuracy sebagai metrics testing model yang telah ditraining.\n",
        "- Fungsi model.predict() digunakan untuk memprediksi.\n",
        "- Fungsi accuracy_score() digunakan untuk membandingkan."
      ]
    },
    {
      "cell_type": "code",
      "execution_count": 4,
      "metadata": {
        "id": "-LPLvyzszZEO",
        "colab": {
          "base_uri": "https://localhost:8080/"
        },
        "outputId": "d6cbd484-84a2-49ea-bd75-6a7e2b74a9dc"
      },
      "outputs": [
        {
          "output_type": "stream",
          "name": "stdout",
          "text": [
            "Accuracy: 0.9833333333333333\n"
          ]
        }
      ],
      "source": [
        "from sklearn.metrics import accuracy_score\n",
        "\n",
        "y_pred = model.predict(X_test)\n",
        "acc = accuracy_score(y_test, y_pred)\n",
        "print(f'Accuracy: {acc}')"
      ]
    },
    {
      "cell_type": "markdown",
      "metadata": {
        "id": "1SZAgSwFzb-g"
      },
      "source": [
        "### Pemanfaatan Trained Model\n",
        "- Trained model berfungsi untuk memprediksi data baru.\n",
        "- Pada kasus kali ini nilai array pertama adalah 1 dan nilai array kedua adalah 2.\n",
        "- Jika dikenakan iris.target_names maka akan muncul nama untuk array dengan nilai 1 dan 2, nilai 1 pada dataset yang digunakan memiliki nama versicolor dan virginica untuk yang bernilai 2."
      ]
    },
    {
      "cell_type": "code",
      "execution_count": 5,
      "metadata": {
        "id": "Z-UW_JeWzm37",
        "colab": {
          "base_uri": "https://localhost:8080/"
        },
        "outputId": "64983509-b4ff-409a-f518-6cae867abe85"
      },
      "outputs": [
        {
          "output_type": "execute_result",
          "data": {
            "text/plain": [
              "array([1, 2])"
            ]
          },
          "metadata": {},
          "execution_count": 5
        }
      ],
      "source": [
        "data_baru = [[5, 5, 3, 2], \n",
        "             [2, 4, 3, 5]]\n",
        "\n",
        "preds =  model.predict(data_baru)\n",
        "preds"
      ]
    },
    {
      "cell_type": "code",
      "execution_count": 6,
      "metadata": {
        "id": "3yAzziUozn_k",
        "colab": {
          "base_uri": "https://localhost:8080/"
        },
        "outputId": "0804ba54-3fb0-4647-eebc-0fa434c184ef"
      },
      "outputs": [
        {
          "output_type": "stream",
          "name": "stdout",
          "text": [
            "Hasil Prediksi: ['versicolor', 'virginica']\n"
          ]
        }
      ],
      "source": [
        "pred_species = [iris.target_names[p] for p in preds] \n",
        "print(f'Hasil Prediksi: {pred_species}')"
      ]
    },
    {
      "cell_type": "markdown",
      "metadata": {
        "id": "6aMz0C-izpcG"
      },
      "source": [
        "## Dump & Load Trained Model\n",
        "### Dumping Model Machine Learning menjadi file joblib\n",
        "- Trained model dapat kita export dengan menggunakan fungsi joblib.dump() yang memiliki 2 parameter, yaitu :\n",
        "- Parameter pertama mengindikasikan model yang diinginkan\n",
        "- Parameter kedua mengindikasikan nama modelnya."
      ]
    },
    {
      "cell_type": "code",
      "execution_count": 7,
      "metadata": {
        "id": "d2qztTHcz21Z",
        "colab": {
          "base_uri": "https://localhost:8080/"
        },
        "outputId": "25bb527d-8bff-4b25-faaf-34644672f7ea"
      },
      "outputs": [
        {
          "output_type": "execute_result",
          "data": {
            "text/plain": [
              "['iris_classifier_knn.joblib']"
            ]
          },
          "metadata": {},
          "execution_count": 7
        }
      ],
      "source": [
        "import joblib\n",
        "\n",
        "joblib.dump(model, 'iris_classifier_knn.joblib')"
      ]
    },
    {
      "cell_type": "markdown",
      "metadata": {
        "id": "6rw5i29Jz32A"
      },
      "source": [
        "### Loading Model Machine Learning dari file joblib menggunakan joblib.load()"
      ]
    },
    {
      "cell_type": "code",
      "execution_count": 8,
      "metadata": {
        "id": "OyM6hMJTz9_g"
      },
      "outputs": [],
      "source": [
        "production_model = joblib.load('iris_classifier_knn.joblib')"
      ]
    }
  ],
  "metadata": {
    "colab": {
      "provenance": []
    },
    "kernelspec": {
      "display_name": "Python 3 (ipykernel)",
      "language": "python",
      "name": "python3"
    },
    "language_info": {
      "codemirror_mode": {
        "name": "ipython",
        "version": 3
      },
      "file_extension": ".py",
      "mimetype": "text/x-python",
      "name": "python",
      "nbconvert_exporter": "python",
      "pygments_lexer": "ipython3",
      "version": "3.9.7"
    }
  },
  "nbformat": 4,
  "nbformat_minor": 0
}