{
  "cells": [
    {
      "cell_type": "markdown",
      "metadata": {
        "id": "_jwx4k660HyO"
      },
      "source": [
        "## Data Preprocessing dengan Scikit-Learn\n",
        "Source : [Indonesia Belajar](https://youtu.be/smNnhEd26Ek)\n",
        "### Sample Dataset\n",
        "- Pada sample dataset kali ini terdiri dari 4 baris dataset yang masing-masingnya terdiri dari 3 features\n",
        "- Fungsi.shape digunakan untuk melihat dimensi dataset. Output bernilai 4,3 berarti memiliki 4 baris dan 3 features."
      ]
    },
    {
      "cell_type": "code",
      "execution_count": 1,
      "metadata": {
        "id": "y_B1O1FQ0Wvl",
        "colab": {
          "base_uri": "https://localhost:8080/"
        },
        "outputId": "6d880513-c010-427a-a6c4-73f60e43fc33"
      },
      "outputs": [
        {
          "output_type": "execute_result",
          "data": {
            "text/plain": [
              "array([[ 2.1, -1.9,  5.5],\n",
              "       [-1.5,  2.4,  3.5],\n",
              "       [ 0.5, -7.9,  5.6],\n",
              "       [ 5.9,  2.3, -5.8]])"
            ]
          },
          "metadata": {},
          "execution_count": 1
        }
      ],
      "source": [
        "import numpy as np\n",
        "from sklearn import preprocessing\n",
        "\n",
        "sample_data = np.array([[2.1, -1.9, 5.5], \n",
        "                        [-1.5, 2.4, 3.5], \n",
        "                        [0.5, -7.9, 5.6],\n",
        "                        [5.9, 2.3, -5.8]])\n",
        "\n",
        "sample_data"
      ]
    },
    {
      "cell_type": "code",
      "execution_count": 2,
      "metadata": {
        "id": "DcGnYrTC0X09",
        "colab": {
          "base_uri": "https://localhost:8080/"
        },
        "outputId": "b9c794e3-c6a0-403c-c71c-6c555bd8593c"
      },
      "outputs": [
        {
          "output_type": "execute_result",
          "data": {
            "text/plain": [
              "(4, 3)"
            ]
          },
          "metadata": {},
          "execution_count": 2
        }
      ],
      "source": [
        "sample_data.shape"
      ]
    },
    {
      "cell_type": "markdown",
      "metadata": {
        "id": "fIeG0JP80ZKy"
      },
      "source": [
        "### Binarisation\n",
        "- Binarisation hanya menghasilkan keluaran 0 dan 1 saja.\n",
        "- Binarizer dapat ditentukan menggunakan fungsi preprocessing.Binarizer()\n",
        "  - Parameter threshold menentukan nilai mana yang akan dijadikan 0 karena sisanya akan dijadikan 1.\n",
        "- Fungsi transform() digunakan untuk mengubah sample_data menjadi bilangan yang binarised."
      ]
    },
    {
      "cell_type": "code",
      "execution_count": 3,
      "metadata": {
        "id": "XIuOcboG0qEd",
        "colab": {
          "base_uri": "https://localhost:8080/"
        },
        "outputId": "4173a808-1077-428b-9719-a82420fab32a"
      },
      "outputs": [
        {
          "output_type": "execute_result",
          "data": {
            "text/plain": [
              "array([[ 2.1, -1.9,  5.5],\n",
              "       [-1.5,  2.4,  3.5],\n",
              "       [ 0.5, -7.9,  5.6],\n",
              "       [ 5.9,  2.3, -5.8]])"
            ]
          },
          "metadata": {},
          "execution_count": 3
        }
      ],
      "source": [
        "sample_data"
      ]
    },
    {
      "cell_type": "code",
      "execution_count": 4,
      "metadata": {
        "id": "NJsrAFW30ymX",
        "colab": {
          "base_uri": "https://localhost:8080/"
        },
        "outputId": "fa47b9ba-6f18-4509-befe-b88b971c0c4a"
      },
      "outputs": [
        {
          "output_type": "execute_result",
          "data": {
            "text/plain": [
              "array([[1., 0., 1.],\n",
              "       [0., 1., 1.],\n",
              "       [0., 0., 1.],\n",
              "       [1., 1., 0.]])"
            ]
          },
          "metadata": {},
          "execution_count": 4
        }
      ],
      "source": [
        "preprocessor = preprocessing.Binarizer(threshold=0.5)\n",
        "binarised_data = preprocessor.transform(sample_data)\n",
        "binarised_data"
      ]
    },
    {
      "cell_type": "markdown",
      "metadata": {
        "id": "Eiwfkoc00x4k"
      },
      "source": [
        "### Scaling\n",
        "- Bertujuan untuk menghasilkan data numerik dalam jangkauan tertentu\n",
        "- Dengan menggunakan fungsi preprocessing.MinMaxScaler().\n",
        "  - Parameter feature_range digunakan untuk menentukan jangkauan scaling.\n",
        "- Setelahnya kita sesuaikan sample_data dengan scaler tadi menggunakan fungsi fit().\n",
        "- Terakhir transform sample_data menggunakan method transform().\n",
        "- Penyingkatan cara kedua dan ketiga bisa dilakukan dengan menggunkan method fit_transform()."
      ]
    },
    {
      "cell_type": "code",
      "execution_count": 5,
      "metadata": {
        "id": "64m3z79o0-9t",
        "colab": {
          "base_uri": "https://localhost:8080/"
        },
        "outputId": "19bc4abc-53ba-402d-9e45-4cc163562daa"
      },
      "outputs": [
        {
          "output_type": "execute_result",
          "data": {
            "text/plain": [
              "array([[ 2.1, -1.9,  5.5],\n",
              "       [-1.5,  2.4,  3.5],\n",
              "       [ 0.5, -7.9,  5.6],\n",
              "       [ 5.9,  2.3, -5.8]])"
            ]
          },
          "metadata": {},
          "execution_count": 5
        }
      ],
      "source": [
        "sample_data"
      ]
    },
    {
      "cell_type": "code",
      "execution_count": 6,
      "metadata": {
        "id": "pI0NiEYf0_9A",
        "colab": {
          "base_uri": "https://localhost:8080/"
        },
        "outputId": "46c8ed8d-450d-49c2-f143-a117796f7919"
      },
      "outputs": [
        {
          "output_type": "execute_result",
          "data": {
            "text/plain": [
              "array([[0.48648649, 0.58252427, 0.99122807],\n",
              "       [0.        , 1.        , 0.81578947],\n",
              "       [0.27027027, 0.        , 1.        ],\n",
              "       [1.        , 0.99029126, 0.        ]])"
            ]
          },
          "metadata": {},
          "execution_count": 6
        }
      ],
      "source": [
        "preprocessor = preprocessing.MinMaxScaler(feature_range=(0, 1))\n",
        "preprocessor.fit(sample_data)\n",
        "scaled_data = preprocessor.transform(sample_data)\n",
        "scaled_data"
      ]
    },
    {
      "cell_type": "code",
      "execution_count": 7,
      "metadata": {
        "id": "9-KrUChq1A6O",
        "colab": {
          "base_uri": "https://localhost:8080/"
        },
        "outputId": "a0aa513b-234f-4137-a0c4-f37b3117cec1"
      },
      "outputs": [
        {
          "output_type": "execute_result",
          "data": {
            "text/plain": [
              "array([[0.48648649, 0.58252427, 0.99122807],\n",
              "       [0.        , 1.        , 0.81578947],\n",
              "       [0.27027027, 0.        , 1.        ],\n",
              "       [1.        , 0.99029126, 0.        ]])"
            ]
          },
          "metadata": {},
          "execution_count": 7
        }
      ],
      "source": [
        "scaled_data = preprocessor.fit_transform(sample_data)\n",
        "scaled_data"
      ]
    },
    {
      "cell_type": "markdown",
      "metadata": {
        "id": "7T63cXD-1C9t"
      },
      "source": [
        "### L1 Normalisation: Least Absolute Deviations\n",
        "Referensi: https://en.wikipedia.org/wiki/Least_absolute_deviations\n",
        "\n",
        "- Untuk melakukan normaliasi nilai numerik dapat menggunakan fungsi preprocessing.normalize()."
      ]
    },
    {
      "cell_type": "code",
      "execution_count": 8,
      "metadata": {
        "id": "QrSeX3X41PNu",
        "colab": {
          "base_uri": "https://localhost:8080/"
        },
        "outputId": "60de09a6-9b35-4230-a869-95c46b0fd9c0"
      },
      "outputs": [
        {
          "output_type": "execute_result",
          "data": {
            "text/plain": [
              "array([[ 2.1, -1.9,  5.5],\n",
              "       [-1.5,  2.4,  3.5],\n",
              "       [ 0.5, -7.9,  5.6],\n",
              "       [ 5.9,  2.3, -5.8]])"
            ]
          },
          "metadata": {},
          "execution_count": 8
        }
      ],
      "source": [
        "sample_data"
      ]
    },
    {
      "cell_type": "code",
      "execution_count": 9,
      "metadata": {
        "id": "bOmDuygN1QCx",
        "colab": {
          "base_uri": "https://localhost:8080/"
        },
        "outputId": "1caebf23-3ad4-46e3-c98d-3329bc2a3f8d"
      },
      "outputs": [
        {
          "output_type": "execute_result",
          "data": {
            "text/plain": [
              "array([[ 0.22105263, -0.2       ,  0.57894737],\n",
              "       [-0.2027027 ,  0.32432432,  0.47297297],\n",
              "       [ 0.03571429, -0.56428571,  0.4       ],\n",
              "       [ 0.42142857,  0.16428571, -0.41428571]])"
            ]
          },
          "metadata": {},
          "execution_count": 9
        }
      ],
      "source": [
        "l1_normalised_data = preprocessing.normalize(sample_data, norm='l1')\n",
        "l1_normalised_data"
      ]
    },
    {
      "cell_type": "markdown",
      "metadata": {
        "id": "Yh6WTqBF1RT5"
      },
      "source": [
        "### L2 Normalisation: Least Squares\n",
        "Referensi: https://en.wikipedia.org/wiki/Least_squares\n",
        "- Untuk melakukan normaliasi nilai numerik dapat menggunakan fungsi preprocessing.normalize()."
      ]
    },
    {
      "cell_type": "code",
      "execution_count": 10,
      "metadata": {
        "colab": {
          "base_uri": "https://localhost:8080/"
        },
        "id": "rILVs2F70S3f",
        "outputId": "46127522-8848-468b-9b07-4702c06ff8af"
      },
      "outputs": [
        {
          "output_type": "execute_result",
          "data": {
            "text/plain": [
              "array([[ 2.1, -1.9,  5.5],\n",
              "       [-1.5,  2.4,  3.5],\n",
              "       [ 0.5, -7.9,  5.6],\n",
              "       [ 5.9,  2.3, -5.8]])"
            ]
          },
          "metadata": {},
          "execution_count": 10
        }
      ],
      "source": [
        "sample_data"
      ]
    },
    {
      "cell_type": "code",
      "execution_count": 11,
      "metadata": {
        "id": "b7GaFnSs1TYm",
        "colab": {
          "base_uri": "https://localhost:8080/"
        },
        "outputId": "7f16bd34-7cdf-4fc9-9b20-e4ca9363c8b3"
      },
      "outputs": [
        {
          "output_type": "execute_result",
          "data": {
            "text/plain": [
              "array([[ 0.33946114, -0.30713151,  0.88906489],\n",
              "       [-0.33325106,  0.53320169,  0.7775858 ],\n",
              "       [ 0.05156558, -0.81473612,  0.57753446],\n",
              "       [ 0.68706914,  0.26784051, -0.6754239 ]])"
            ]
          },
          "metadata": {},
          "execution_count": 11
        }
      ],
      "source": [
        "l2_normalised_data = preprocessing.normalize(sample_data, norm='l2')\n",
        "l2_normalised_data"
      ]
    }
  ],
  "metadata": {
    "colab": {
      "provenance": []
    },
    "kernelspec": {
      "display_name": "Python 3 (ipykernel)",
      "language": "python",
      "name": "python3"
    },
    "language_info": {
      "codemirror_mode": {
        "name": "ipython",
        "version": 3
      },
      "file_extension": ".py",
      "mimetype": "text/x-python",
      "name": "python",
      "nbconvert_exporter": "python",
      "pygments_lexer": "ipython3",
      "version": "3.9.7"
    }
  },
  "nbformat": 4,
  "nbformat_minor": 0
}